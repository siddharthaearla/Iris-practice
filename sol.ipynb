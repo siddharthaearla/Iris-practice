{
 "cells": [
  {
   "cell_type": "code",
   "execution_count": 1,
   "metadata": {
    "collapsed": true
   },
   "outputs": [],
   "source": [
    "from pandas import read_csv\n",
    "from pandas.tools.plotting import scatter_matrix\n",
    "from matplotlib import pyplot\n",
    "from sklearn.model_selection import train_test_split\n",
    "from sklearn.model_selection import KFold\n",
    "from sklearn.model_selection import cross_val_score\n",
    "from sklearn.metrics import classification_report\n",
    "from sklearn.metrics import confusion_matrix\n",
    "from sklearn.metrics import accuracy_score\n",
    "from sklearn.linear_model import LogisticRegression\n",
    "from sklearn.tree import DecisionTreeClassifier\n",
    "from sklearn.neighbors import KNeighborsClassifier\n",
    "from sklearn.discriminant_analysis import LinearDiscriminantAnalysis\n",
    "from sklearn.naive_bayes import GaussianNB\n",
    "from sklearn.svm import SVC"
   ]
  },
  {
   "cell_type": "code",
   "execution_count": 2,
   "metadata": {
    "collapsed": true
   },
   "outputs": [],
   "source": [
    "filename = '/home/siddhartha/Desktop/iris/iris.csv'\n",
    "names = [ 'sepal-length' , 'sepal-width' , 'petal-length' , 'petal-width' , 'class' ]\n",
    "dataset = read_csv(filename, names=names)"
   ]
  },
  {
   "cell_type": "code",
   "execution_count": 5,
   "metadata": {},
   "outputs": [
    {
     "name": "stdout",
     "output_type": "stream",
     "text": [
      "(299, 5)\n"
     ]
    }
   ],
   "source": [
    "print(dataset.shape)"
   ]
  },
  {
   "cell_type": "code",
   "execution_count": 6,
   "metadata": {},
   "outputs": [
    {
     "name": "stdout",
     "output_type": "stream",
     "text": [
      "    sepal-length  sepal-width  petal-length  petal-width   class\n",
      "0            5.1          3.5           1.4          0.2  setosa\n",
      "1            NaN          NaN           NaN          NaN     NaN\n",
      "2            4.9          3.0           1.4          0.2  setosa\n",
      "3            NaN          NaN           NaN          NaN     NaN\n",
      "4            4.7          3.2           1.3          0.2  setosa\n",
      "5            NaN          NaN           NaN          NaN     NaN\n",
      "6            4.6          3.1           1.5          0.2  setosa\n",
      "7            NaN          NaN           NaN          NaN     NaN\n",
      "8            5.0          3.6           1.4          0.2  setosa\n",
      "9            NaN          NaN           NaN          NaN     NaN\n",
      "10           5.4          3.9           1.7          0.4  setosa\n",
      "11           NaN          NaN           NaN          NaN     NaN\n",
      "12           4.6          3.4           1.4          0.3  setosa\n",
      "13           NaN          NaN           NaN          NaN     NaN\n",
      "14           5.0          3.4           1.5          0.2  setosa\n",
      "15           NaN          NaN           NaN          NaN     NaN\n",
      "16           4.4          2.9           1.4          0.2  setosa\n",
      "17           NaN          NaN           NaN          NaN     NaN\n",
      "18           4.9          3.1           1.5          0.1  setosa\n",
      "19           NaN          NaN           NaN          NaN     NaN\n"
     ]
    }
   ],
   "source": [
    "print(dataset.head(20))"
   ]
  },
  {
   "cell_type": "code",
   "execution_count": 28,
   "metadata": {},
   "outputs": [
    {
     "name": "stdout",
     "output_type": "stream",
     "text": [
      "    sepal-length  sepal-width  petal-length  petal-width   class\n",
      "0            5.1          3.5           1.4          0.2  setosa\n",
      "2            4.9          3.0           1.4          0.2  setosa\n",
      "4            4.7          3.2           1.3          0.2  setosa\n",
      "6            4.6          3.1           1.5          0.2  setosa\n",
      "8            5.0          3.6           1.4          0.2  setosa\n",
      "10           5.4          3.9           1.7          0.4  setosa\n",
      "12           4.6          3.4           1.4          0.3  setosa\n",
      "14           5.0          3.4           1.5          0.2  setosa\n",
      "16           4.4          2.9           1.4          0.2  setosa\n",
      "18           4.9          3.1           1.5          0.1  setosa\n",
      "20           5.4          3.7           1.5          0.2  setosa\n",
      "22           4.8          3.4           1.6          0.2  setosa\n",
      "24           4.8          3.0           1.4          0.1  setosa\n",
      "26           4.3          3.0           1.1          0.1  setosa\n",
      "28           5.8          4.0           1.2          0.2  setosa\n",
      "30           5.7          4.4           1.5          0.4  setosa\n",
      "32           5.4          3.9           1.3          0.4  setosa\n",
      "34           5.1          3.5           1.4          0.3  setosa\n",
      "36           5.7          3.8           1.7          0.3  setosa\n",
      "38           5.1          3.8           1.5          0.3  setosa\n"
     ]
    }
   ],
   "source": [
    "dataset=dataset.dropna()\n",
    "print(dataset.head(20))"
   ]
  },
  {
   "cell_type": "code",
   "execution_count": 30,
   "metadata": {},
   "outputs": [
    {
     "name": "stdout",
     "output_type": "stream",
     "text": [
      "       sepal-length  sepal-width  petal-length  petal-width\n",
      "count    150.000000   150.000000    150.000000   150.000000\n",
      "mean       5.843333     3.054000      3.758667     1.198667\n",
      "std        0.828066     0.433594      1.764420     0.763161\n",
      "min        4.300000     2.000000      1.000000     0.100000\n",
      "25%        5.100000     2.800000      1.600000     0.300000\n",
      "50%        5.800000     3.000000      4.350000     1.300000\n",
      "75%        6.400000     3.300000      5.100000     1.800000\n",
      "max        7.900000     4.400000      6.900000     2.500000\n"
     ]
    }
   ],
   "source": [
    "print(dataset.describe())"
   ]
  },
  {
   "cell_type": "code",
   "execution_count": 32,
   "metadata": {},
   "outputs": [
    {
     "name": "stdout",
     "output_type": "stream",
     "text": [
      "class\n",
      "setosa        50\n",
      "versicolor    50\n",
      "virginica     50\n",
      "dtype: int64\n"
     ]
    }
   ],
   "source": [
    "print(dataset.groupby( 'class' ).size())"
   ]
  },
  {
   "cell_type": "code",
   "execution_count": 33,
   "metadata": {
    "collapsed": true
   },
   "outputs": [],
   "source": [
    "array = dataset.values\n",
    "X = array[:,0:4]\n",
    "Y = array[:,4]"
   ]
  },
  {
   "cell_type": "code",
   "execution_count": 36,
   "metadata": {
    "collapsed": true
   },
   "outputs": [],
   "source": [
    "validation_size = 0.20\n",
    "seed = 7\n",
    "X_train, X_validation, Y_train, Y_validation = train_test_split(X, Y,test_size=validation_size, random_state=seed)"
   ]
  },
  {
   "cell_type": "code",
   "execution_count": 37,
   "metadata": {
    "collapsed": true
   },
   "outputs": [],
   "source": [
    "models = []\n",
    "models.append(( ' LR ' , LogisticRegression()))\n",
    "models.append(( ' LDA ' , LinearDiscriminantAnalysis()))\n",
    "models.append(( ' KNN ' , KNeighborsClassifier()))\n",
    "models.append(( ' CART ' , DecisionTreeClassifier()))\n",
    "models.append(( ' NB ' , GaussianNB()))\n",
    "models.append(( ' SVM ' , SVC()))"
   ]
  },
  {
   "cell_type": "code",
   "execution_count": 40,
   "metadata": {},
   "outputs": [
    {
     "name": "stdout",
     "output_type": "stream",
     "text": [
      " LR : 0.966667 (0.040825)\n",
      " LDA : 0.975000 (0.038188)\n",
      " KNN : 0.983333 (0.033333)\n",
      " CART : 0.975000 (0.038188)\n",
      " NB : 0.975000 (0.053359)\n",
      " SVM : 0.991667 (0.025000)\n"
     ]
    }
   ],
   "source": [
    "results = []\n",
    "names = []\n",
    "for name, model in models:\n",
    "    kfold = KFold(n_splits=10, random_state=seed)\n",
    "    cv_results = cross_val_score(model, X_train, Y_train, cv=kfold, scoring= 'accuracy' )\n",
    "    results.append(cv_results)\n",
    "    names.append(name)\n",
    "    msg = \"%s: %f (%f)\" % (name, cv_results.mean(), cv_results.std())\n",
    "    print(msg)"
   ]
  },
  {
   "cell_type": "code",
   "execution_count": 41,
   "metadata": {},
   "outputs": [
    {
     "name": "stdout",
     "output_type": "stream",
     "text": [
      "0.9\n",
      "[[ 7  0  0]\n",
      " [ 0 11  1]\n",
      " [ 0  2  9]]\n",
      "             precision    recall  f1-score   support\n",
      "\n",
      "     setosa       1.00      1.00      1.00         7\n",
      " versicolor       0.85      0.92      0.88        12\n",
      "  virginica       0.90      0.82      0.86        11\n",
      "\n",
      "avg / total       0.90      0.90      0.90        30\n",
      "\n"
     ]
    }
   ],
   "source": [
    "knn = KNeighborsClassifier()\n",
    "knn.fit(X_train, Y_train)\n",
    "predictions = knn.predict(X_validation)\n",
    "print(accuracy_score(Y_validation, predictions))\n",
    "print(confusion_matrix(Y_validation, predictions))\n",
    "print(classification_report(Y_validation, predictions))"
   ]
  },
  {
   "cell_type": "code",
   "execution_count": null,
   "metadata": {
    "collapsed": true
   },
   "outputs": [],
   "source": []
  }
 ],
 "metadata": {
  "kernelspec": {
   "display_name": "Python 3",
   "language": "python",
   "name": "python3"
  },
  "language_info": {
   "codemirror_mode": {
    "name": "ipython",
    "version": 3
   },
   "file_extension": ".py",
   "mimetype": "text/x-python",
   "name": "python",
   "nbconvert_exporter": "python",
   "pygments_lexer": "ipython3",
   "version": "3.6.3"
  }
 },
 "nbformat": 4,
 "nbformat_minor": 2
}
